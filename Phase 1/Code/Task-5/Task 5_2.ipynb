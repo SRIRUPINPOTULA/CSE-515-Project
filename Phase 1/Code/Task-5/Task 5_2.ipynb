{
 "cells": [
  {
   "cell_type": "code",
   "execution_count": null,
   "id": "0863e907-cdeb-4bbf-a500-443880413903",
   "metadata": {},
   "outputs": [],
   "source": [
    "# Task 2\n",
    "import os\n",
    "import json\n",
    "import pandas as pd\n",
    "import numpy as np\n",
    "from sklearn.metrics.pairwise import euclidean_distances\n",
    "from scipy.spatial.distance import cdist\n",
    "from prettytable import PrettyTable\n",
    "\n",
    "sample_input = []\n",
    "sample_input.append(\"STIP/target_videos/cartwheel/Bodenturnen_2004_cartwheel_f_cm_np1_le_med_0.avi.txt\")\n",
    "sample_input.append(\"STIP/target_videos/sword_exercise/Blade_Of_Fury_-_Scene_1_sword_exercise_f_cm_np1_ri_med_3.avi.txt\")\n",
    "sample_input.append(\"STIP/target_videos/sword/AHF_longsword_against_Rapier_and_Dagger_Fight_sword_f_cm_np2_ri_bad_0.avi.txt\")\n",
    "sample_input.append(\"STIP/target_videos/drink/CastAway2_drink_u_cm_np1_le_goo_8.avi.txt\")\n",
    "\n",
    "column_labels = [\"point-type\", \"x\", \"y\", \"t\", \"sigma2\", \"tau2\", \"detector-confidence\"]\n",
    "for i in range(1, 73):\n",
    "    column_labels.append(\"dscr-hog (\" + str(i) + \")\")\n",
    "for i in range(1, 91):\n",
    "    column_labels.append(\"dscr-hof (\" + str(i) + \")\")\n",
    "\n",
    "tau_values = [2, 4]\n",
    "sigma_values = [4, 8, 16, 32, 64, 128]\n",
    "\n",
    "with open('HoG_cluster_representatives.json', 'r') as fp:\n",
    "    nt_centers_HOG = json.load(fp)\n",
    "with open('HoF_cluster_representatives.json', 'r') as fp:\n",
    "    nt_centers_HOF = json.load(fp)"
   ]
  },
  {
   "cell_type": "code",
   "execution_count": null,
   "id": "73176dc3-b635-40d5-94f9-3d068d901fcb",
   "metadata": {},
   "outputs": [],
   "source": [
    "def find_closest_clusters(x, y):\n",
    "    distances = euclidean_distances(x, y)\n",
    "    return np.argmin(distances, axis=1)"
   ]
  },
  {
   "cell_type": "code",
   "execution_count": null,
   "id": "1ec14b5c-f96e-41e1-8a6d-d793efae928b",
   "metadata": {},
   "outputs": [],
   "source": [
    "sample_bof_hog = []\n",
    "sample_bof_hof = []\n",
    "\n",
    "for video_name in sample_input:\n",
    "    df = pd.read_csv(video_name, sep=\"\\t\", comment='#', header=None)\n",
    "    df = df.nlargest(400, 6)\n",
    "\n",
    "    df = df.dropna(axis=1)\n",
    "    df.columns = column_labels\n",
    "\n",
    "    hog_histograms = []\n",
    "    hof_histograms = []\n",
    "\n",
    "    for t in tau_values:\n",
    "        for s in sigma_values:\n",
    "    \n",
    "            filtered_df = df[(df[\"tau2\"] == t) & (df[\"sigma2\"] == s)]\n",
    "            if filtered_df.shape[0] != 0:\n",
    "                hog_cluster_Id = find_closest_clusters(filtered_df.loc[:, \"dscr-hog (1)\":\"dscr-hog (72)\"], nt_centers_HOG[str((t, s))])\n",
    "                hof_cluster_Id = find_closest_clusters(filtered_df.loc[:, \"dscr-hof (1)\":\"dscr-hof (90)\"], nt_centers_HOF[str((t, s))])\n",
    "        \n",
    "                hog_histogram, bin_edges = np.histogram(hog_cluster_Id, bins=np.arange(41))\n",
    "                hof_histogram, bin_edges = np.histogram(hof_cluster_Id, bins=np.arange(41))\n",
    "            elif filtered_df.shape[0] != 0:\n",
    "                hog_histograms.append(numpy.zeros(480))\n",
    "                hof_histograms.append(numpy.zeros(480))\n",
    "\n",
    "            hog_histograms.append(hog_histogram)\n",
    "            hof_histograms.append(hof_histogram)\n",
    "\n",
    "    sample_bof_hog.append(np.concatenate(hog_histograms))\n",
    "    sample_bof_hof.append(np.concatenate(hof_histograms))"
   ]
  },
  {
   "cell_type": "code",
   "execution_count": null,
   "id": "f31cfd51-d701-4fab-b034-5c7cd25cb6de",
   "metadata": {},
   "outputs": [],
   "source": [
    "target_name = []\n",
    "target_bof_hog = []\n",
    "target_bof_hof = []\n",
    "\n",
    "# Function to traverse the STIP directory\n",
    "def process_STIPs_in_folder(folder_path):\n",
    "    for root, dirs, files in os.walk(folder_path):\n",
    "        for file in files:\n",
    "            video_file = os.path.join(root, file)\n",
    "            video_name = os.path.relpath(video_file, folder_path)\n",
    "\n",
    "            with open(folder_path + \"\\\\\" + video_name, 'r') as fp:\n",
    "                target_video = json.load(fp)\n",
    "\n",
    "            target_name.append(video_name)\n",
    "            target_bof_hog.append(target_video[\"hog\"])\n",
    "            target_bof_hof.append(target_video[\"hof\"])\n",
    "\n",
    "process_STIPs_in_folder(\"Task-4\")"
   ]
  },
  {
   "cell_type": "code",
   "execution_count": null,
   "id": "0ffb0651-de64-45d3-a0d5-4e55d2cb5f18",
   "metadata": {},
   "outputs": [],
   "source": [
    "hog_distances = cdist(sample_bof_hog, target_bof_hog, metric='euclidean')\n",
    "hof_distances = cdist(sample_bof_hof, target_bof_hof, metric='euclidean')"
   ]
  },
  {
   "cell_type": "code",
   "execution_count": null,
   "id": "1b72413d-05a9-4b5c-8cfb-7823d8deb7c1",
   "metadata": {},
   "outputs": [],
   "source": [
    "num_closest = 11\n",
    "closest_hog_indices = []\n",
    "closest_hof_indices = []\n",
    "\n",
    "for i in range(len(sample_input)):\n",
    "    # Get indices of the 10 closest data points\n",
    "    indices_hog = np.argsort(hog_distances[i])[1:num_closest]\n",
    "    closest_hog_indices.append(indices_hog)\n",
    "\n",
    "    indices_hof = np.argsort(hof_distances[i])[1:num_closest]\n",
    "    closest_hof_indices.append(indices_hof)"
   ]
  },
  {
   "cell_type": "code",
   "execution_count": null,
   "id": "620b178f-41d4-40c5-8c4f-127f8951fd0f",
   "metadata": {},
   "outputs": [],
   "source": [
    "print(\"HoG Closest Videos\")\n",
    "for i in range(len(sample_input)):\n",
    "    print(sample_input[i])\n",
    "    t = PrettyTable([\"Rank\", \"Video Name\", \"Distance\"])\n",
    "    for j in range(10):\n",
    "        index = closest_hog_indices[i][j]\n",
    "        t.add_row([j + 1, (target_name[index])[:-5], hog_distances[i][index]])\n",
    "    print(t)"
   ]
  },
  {
   "cell_type": "code",
   "execution_count": null,
   "id": "6039eb56-b50e-4de2-81ff-1f7add156011",
   "metadata": {},
   "outputs": [],
   "source": [
    "print(\"HoF Closest Videos\")\n",
    "for i in range(len(sample_input)):\n",
    "    print(sample_input[i])\n",
    "    t = PrettyTable([\"Rank\", \"Video Name\", \"Distance\"])\n",
    "    for j in range(10):\n",
    "        index = closest_hof_indices[i][j]\n",
    "        t.add_row([j + 1, (target_name[index])[:-5], hof_distances[i][index]])\n",
    "    print(t)"
   ]
  }
 ],
 "metadata": {
  "kernelspec": {
   "display_name": "Python 3 (ipykernel)",
   "language": "python",
   "name": "python3"
  },
  "language_info": {
   "codemirror_mode": {
    "name": "ipython",
    "version": 3
   },
   "file_extension": ".py",
   "mimetype": "text/x-python",
   "name": "python",
   "nbconvert_exporter": "python",
   "pygments_lexer": "ipython3",
   "version": "3.12.4"
  }
 },
 "nbformat": 4,
 "nbformat_minor": 5
}
