{
 "cells": [
  {
   "cell_type": "code",
   "execution_count": 1,
   "id": "32b72d7b-d8fd-4765-9986-3506bcbaaa6c",
   "metadata": {},
   "outputs": [],
   "source": [
    "# Task 2\n",
    "\n",
    "import os\n",
    "import json\n",
    "import pandas as pd\n",
    "import numpy as np\n",
    "from sklearn.cluster import KMeans\n",
    "from sklearn.metrics.pairwise import euclidean_distances"
   ]
  },
  {
   "cell_type": "code",
   "execution_count": 3,
   "id": "76ac702a-84d3-4c65-8328-24dc4cdf33c7",
   "metadata": {},
   "outputs": [
    {
     "name": "stdout",
     "output_type": "stream",
     "text": [
      "no data in  STIP/non_target_videos/smile\\show_your_smile_-)_smile_h_nm_np1_fr_med_0.avi.txt\n",
      "no data in  STIP/non_target_videos/somersault\\LONGESTYARD_somersault_f_cm_np1_le_bad_27.avi.txt\n",
      "no data in  STIP/non_target_videos/stand\\IndianaJonesandTheTempleofDoom_stand_f_nm_np1_ri_med_3.avi.txt\n",
      "no data in  STIP/non_target_videos/walk\\TrumanShow_walk_f_nm_np1_fr_med_23.avi.txt\n"
     ]
    }
   ],
   "source": [
    "# Arrays to store 400 highest confidence STIPs for each video\n",
    "# Adding samples for each video to a DataFrame is not ideal, hence Arrays are used.\n",
    "target_data = []\n",
    "non_target_data = []\n",
    "\n",
    "# Function to traverse the STIP directory\n",
    "def process_STIPs_in_folder(folder_path):\n",
    "    for root, dirs, files in os.walk(folder_path):\n",
    "        for file in files:\n",
    "            video_file = os.path.join(root, file)\n",
    "            video_name = os.path.relpath(video_file, folder_path)\n",
    "            try:\n",
    "                # STIP files are tab separated, with comments and a header that is not formatted for a Pandas DataFrame\n",
    "                temp_df = pd.read_csv(folder_path + \"/\" + video_name, sep=\"\\t\", comment='#', header=None)\n",
    "\n",
    "                # select 400 highest samples sorted by column index 6 (detector-confidence)\n",
    "                temp_df = temp_df.nlargest(400, 6)\n",
    "                if folder_path == STIP_target_path:\n",
    "                    target_data.append(temp_df)\n",
    "                elif folder_path == STIP_non_target_path:\n",
    "                    non_target_data.append(temp_df)\n",
    "            # Exception Handling for Empty STIP files\n",
    "            except pd.errors.EmptyDataError:\n",
    "                print(\"no data in \", folder_path + \"/\" + video_name)\n",
    "\n",
    "STIP_target_path = \"STIP/target_videos\"\n",
    "STIP_non_target_path = \"STIP/non_target_videos\"\n",
    "\n",
    "process_STIPs_in_folder(STIP_target_path)\n",
    "process_STIPs_in_folder(STIP_non_target_path)"
   ]
  },
  {
   "cell_type": "code",
   "execution_count": 5,
   "id": "3cf1cde1-6683-4302-bf56-0dbf4cf93d48",
   "metadata": {},
   "outputs": [],
   "source": [
    "# Convert Arrays to Pandas DataFrame\n",
    "target_df = pd.concat(target_data, ignore_index=True)\n",
    "non_target_df = pd.concat(non_target_data, ignore_index=True)"
   ]
  },
  {
   "cell_type": "code",
   "execution_count": 24,
   "id": "41aca1cc-4aad-4892-a367-c495a37bc28a",
   "metadata": {},
   "outputs": [],
   "source": [
    "# Drops the last column as it is an empty column (due to how STIP data provided is formatted)\n",
    "target_df = target_df.dropna(axis=1)\n",
    "non_target_df = non_target_df.dropna(axis=1)"
   ]
  },
  {
   "cell_type": "code",
   "execution_count": 3,
   "id": "048abf7f-1caa-4da8-9840-52c4d67caeea",
   "metadata": {},
   "outputs": [],
   "source": [
    "column_labels = [\"point-type\", \"x\", \"y\", \"t\", \"sigma2\", \"tau2\", \"detector-confidence\"]\n",
    "for i in range(1, 73):\n",
    "    column_labels.append(\"dscr-hog (\" + str(i) + \")\")\n",
    "for i in range(1, 91):\n",
    "    column_labels.append(\"dscr-hof (\" + str(i) + \")\")"
   ]
  },
  {
   "cell_type": "code",
   "execution_count": 30,
   "id": "a3715a29-ed80-4fa9-b23a-a08cb72dbbe4",
   "metadata": {},
   "outputs": [],
   "source": [
    "target_df.columns = non_target_df.columns = column_labels"
   ]
  },
  {
   "cell_type": "code",
   "execution_count": 5,
   "id": "72b758de-e402-4541-8420-650550d36d9e",
   "metadata": {},
   "outputs": [],
   "source": [
    "# Export the DataFrame to local, to avoid running the above blocks everytime\n",
    "target_df.to_csv('STIPs_target.csv', index=False)\n",
    "non_target_df.to_csv('STIPs_non_target.csv', index=False)"
   ]
  },
  {
   "cell_type": "code",
   "execution_count": 5,
   "id": "91677976-ed57-449d-8956-302225505b24",
   "metadata": {},
   "outputs": [],
   "source": [
    "# Import the DataFrames from local instead of running the above blocks everytime\n",
    "target_df = pd.read_csv(\"STIPs_target.csv\")\n",
    "non_target_df = pd.read_csv(\"STIPs_non_target.csv\")"
   ]
  },
  {
   "cell_type": "code",
   "execution_count": 19,
   "id": "aaa0865a-46ef-44a8-baf8-bcca35d50236",
   "metadata": {},
   "outputs": [],
   "source": [
    "# Task 2a\n",
    "\n",
    "# Dictionary to store Cluster Representatives, with (tau, sigma) values as Key\n",
    "nt_centers_HOG = {}\n",
    "nt_centers_HOF = {}\n",
    "\n",
    "tau_values = [2, 4]\n",
    "sigma_values = [4, 8, 16, 32, 64, 128]"
   ]
  },
  {
   "cell_type": "code",
   "execution_count": 21,
   "id": "dc216bdd-c344-42b2-862c-6ad912149d50",
   "metadata": {},
   "outputs": [],
   "source": [
    "for t in tau_values:\n",
    "    for s in sigma_values:\n",
    "        # Sample 10000 STIPs for each pair of tau2, sigma2 pairs\n",
    "        filtered_df = non_target_df[(non_target_df[\"tau2\"] == t) & (non_target_df[\"sigma2\"] == s)].sample(10000)\n",
    "\n",
    "        # Take the HoG and HoF features\n",
    "        X_HOG = filtered_df.loc[:, \"dscr-hog (1)\":\"dscr-hog (72)\"]\n",
    "        X_HOF = filtered_df.loc[:, \"dscr-hof (1)\":\"dscr-hof (90)\"]\n",
    "\n",
    "        kmeans = KMeans(n_clusters=40)\n",
    "\n",
    "        kmeans.fit(X_HOG)\n",
    "        nt_centers_HOG[str((t, s))] = kmeans.cluster_centers_.tolist()\n",
    "\n",
    "        kmeans.fit(X_HOF)\n",
    "        nt_centers_HOF[str((t, s))] = kmeans.cluster_centers_.tolist()"
   ]
  },
  {
   "cell_type": "code",
   "execution_count": 43,
   "id": "e854796f-a9fd-447d-ab7e-5c8557bf7a9d",
   "metadata": {},
   "outputs": [],
   "source": [
    "# Export the Cluster Representatives for Task 5\n",
    "with open(\"HoG_cluster_representatives.json\", \"w\") as fp:\n",
    "    json.dump(nt_centers_HOG, fp)\n",
    "with open(\"HoF_cluster_representatives.json\", \"w\") as fp:\n",
    "    json.dump(nt_centers_HOF, fp)"
   ]
  },
  {
   "cell_type": "code",
   "execution_count": 25,
   "id": "fe6ff0b7-9ccf-474d-8239-f420c537db55",
   "metadata": {},
   "outputs": [],
   "source": [
    "# Task 2b, 2c\n",
    "\n",
    "video_name = input()\n",
    "# video_name = \"STIP/non_target_videos/catch/Ball_hochwerfen_-_Rolle_-_Ball_fangen_(Timo_3)_catch_f_cm_np1_ri_med_1.avi.txt\""
   ]
  },
  {
   "cell_type": "code",
   "execution_count": 27,
   "id": "05601650-07ba-45c4-8084-65399f7676e2",
   "metadata": {},
   "outputs": [],
   "source": [
    "# STIP files are tab separated, with comments and a header that is not formatted for a Pandas DataFrame\n",
    "df = pd.read_csv(video_name, sep=\"\\t\", comment='#', header=None)\n",
    "\n",
    "# select 400 highest samples sorted by column index 6 (detector-confidence)\n",
    "df = df.nlargest(400, 6)"
   ]
  },
  {
   "cell_type": "code",
   "execution_count": 29,
   "id": "c06dcea6-40cc-43d2-bf00-541c6d3f948a",
   "metadata": {},
   "outputs": [],
   "source": [
    "# Drops the last column as it is an empty column (due to how STIP data provided is formatted)\n",
    "df = df.dropna(axis=1)\n",
    "df.columns = column_labels"
   ]
  },
  {
   "cell_type": "code",
   "execution_count": 31,
   "id": "604a8c48-1fe8-4651-bbd2-a62da4639e72",
   "metadata": {},
   "outputs": [],
   "source": [
    "# Find the Euclidean Distance between the STIPs and Cluster Representatives\n",
    "# Returns the index of the closest cluster representative\n",
    "def find_closest_clusters(x, y):\n",
    "    distances = euclidean_distances(x, y)\n",
    "    return np.argmin(distances, axis=1)"
   ]
  },
  {
   "cell_type": "code",
   "execution_count": 35,
   "id": "834f11ff-36f4-49fd-8518-1a69dfff61fc",
   "metadata": {},
   "outputs": [],
   "source": [
    "hog_histograms = []\n",
    "hof_histograms = []"
   ]
  },
  {
   "cell_type": "code",
   "execution_count": 37,
   "id": "7a946ac9-554c-465f-aabc-32b0525ea29f",
   "metadata": {},
   "outputs": [],
   "source": [
    "for t in tau_values:\n",
    "    for s in sigma_values:\n",
    "\n",
    "        filtered_df = df[(df[\"tau2\"] == t) & (df[\"sigma2\"] == s)]\n",
    "        hog_cluster_Id = find_closest_clusters(filtered_df.loc[:, \"dscr-hog (1)\":\"dscr-hog (72)\"], nt_centers_HOG[str((t, s))])\n",
    "        hof_cluster_Id = find_closest_clusters(filtered_df.loc[:, \"dscr-hof (1)\":\"dscr-hof (90)\"], nt_centers_HOF[str((t, s))])\n",
    "\n",
    "        hog_histogram, bin_edges = np.histogram(hog_cluster_Id, bins=np.arange(41))\n",
    "        hof_histogram, bin_edges = np.histogram(hof_cluster_Id, bins=np.arange(41))\n",
    "\n",
    "        hog_histograms.append(hog_histogram)\n",
    "        hof_histograms.append(hof_histogram)\n",
    "\n",
    "        # if (t == 2) & (s == 4):\n",
    "        #     plt.figure().set_figwidth(20)\n",
    "        #     plt.bar(bin_edges[:-1], histogram, width=1.0, edgecolor='black', align='center')\n",
    "        #     plt.title('40-Dimensional Histogram of STIP Clusters')\n",
    "        #     plt.xlabel('Cluster ID')\n",
    "        #     plt.ylabel('Frequency')\n",
    "        #     plt.xticks(np.arange(40))\n",
    "\n",
    "        #     plt.show()"
   ]
  },
  {
   "cell_type": "code",
   "execution_count": 39,
   "id": "ff5516bd-b0a6-451e-9c35-1c926a2f3301",
   "metadata": {},
   "outputs": [],
   "source": [
    "# Output for Task 2b and 2c. 480 dimensional Bag of Features Vector\n",
    "bof_HOG_descriptor = np.concatenate(hog_histograms)\n",
    "bof_HOF_descriptor = np.concatenate(hof_histograms)"
   ]
  }
 ],
 "metadata": {
  "kernelspec": {
   "display_name": "Python 3 (ipykernel)",
   "language": "python",
   "name": "python3"
  },
  "language_info": {
   "codemirror_mode": {
    "name": "ipython",
    "version": 3
   },
   "file_extension": ".py",
   "mimetype": "text/x-python",
   "name": "python",
   "nbconvert_exporter": "python",
   "pygments_lexer": "ipython3",
   "version": "3.12.4"
  }
 },
 "nbformat": 4,
 "nbformat_minor": 5
}
