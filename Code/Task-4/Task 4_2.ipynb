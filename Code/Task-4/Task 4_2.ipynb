{
 "cells": [
  {
   "cell_type": "code",
   "execution_count": 1,
   "id": "4f8531a4-2681-4187-9435-1be46e33ae7f",
   "metadata": {},
   "outputs": [],
   "source": [
    "#Task 4 - Task 2 sub portion\n",
    "import os\n",
    "import json\n",
    "import pandas as pd\n",
    "import numpy as np\n",
    "from sklearn.metrics.pairwise import euclidean_distances"
   ]
  },
  {
   "cell_type": "code",
   "execution_count": 3,
   "id": "980a1bf0-91ed-43c4-988c-a7de1360e552",
   "metadata": {},
   "outputs": [],
   "source": [
    "column_labels = [\"point-type\", \"x\", \"y\", \"t\", \"sigma2\", \"tau2\", \"detector-confidence\"]\n",
    "for i in range(1, 73):\n",
    "    column_labels.append(\"dscr-hog (\" + str(i) + \")\")\n",
    "for i in range(1, 91):\n",
    "    column_labels.append(\"dscr-hof (\" + str(i) + \")\")\n",
    "\n",
    "tau_values = [2, 4]\n",
    "sigma_values = [4, 8, 16, 32, 64, 128]\n",
    "\n",
    "with open('HoG_cluster_representatives.json', 'r') as fp:\n",
    "    nt_centers_HOG = json.load(fp)\n",
    "with open('HoF_cluster_representatives.json', 'r') as fp:\n",
    "    nt_centers_HOF = json.load(fp)"
   ]
  },
  {
   "cell_type": "code",
   "execution_count": 5,
   "id": "2591ade4-f481-412e-8c82-62c8d344c5a8",
   "metadata": {},
   "outputs": [],
   "source": [
    "# Find the Euclidean Distance between the STIPs and Cluster Representatives\n",
    "# Returns the index of the closest cluster representative\n",
    "def find_closest_clusters(x, y):\n",
    "    distances = euclidean_distances(x, y)\n",
    "    return np.argmin(distances, axis=1)"
   ]
  },
  {
   "cell_type": "code",
   "execution_count": 9,
   "id": "7e8f35ff-c1b4-4de1-b4eb-4f900ef97af5",
   "metadata": {},
   "outputs": [],
   "source": [
    "def get_bof(folder_path):\n",
    "    for root, dirs, files in os.walk(folder_path):\n",
    "        for file in files:\n",
    "            video_file = os.path.join(root, file)\n",
    "            video_name = os.path.relpath(video_file, folder_path)\n",
    "            df = pd.read_csv(folder_path + \"/\" + video_name, sep=\"\\t\", comment='#', header=None)\n",
    "            \n",
    "            df = df.nlargest(400, 6)\n",
    "\n",
    "            df = df.dropna(axis=1)\n",
    "            df.columns = column_labels\n",
    "\n",
    "            hog_histograms = []\n",
    "            hof_histograms = []\n",
    "            \n",
    "            for t in tau_values:\n",
    "                for s in sigma_values:\n",
    "            \n",
    "                    filtered_df = df[(df[\"tau2\"] == t) & (df[\"sigma2\"] == s)]\n",
    "                    if filtered_df.shape[0] != 0:\n",
    "                        hog_cluster_Id = find_closest_clusters(filtered_df.loc[:, \"dscr-hog (1)\":\"dscr-hog (72)\"], nt_centers_HOG[str((t, s))])\n",
    "                        hof_cluster_Id = find_closest_clusters(filtered_df.loc[:, \"dscr-hof (1)\":\"dscr-hof (90)\"], nt_centers_HOF[str((t, s))])\n",
    "            \n",
    "                        hog_histogram, bin_edges = np.histogram(hog_cluster_Id, bins=np.arange(41))\n",
    "                        hof_histogram, bin_edges = np.histogram(hof_cluster_Id, bins=np.arange(41))\n",
    "                    \n",
    "                    elif filtered_df.shape[0] != 0:\n",
    "                        hog_histograms.append(numpy.zeros(480))\n",
    "                        hof_histograms.append(numpy.zeros(480))\n",
    "            \n",
    "                    hog_histograms.append(hog_histogram)\n",
    "                    hof_histograms.append(hof_histogram)\n",
    "\n",
    "            bof = {}\n",
    "            bof[\"hog\"] = np.concatenate(hog_histograms).tolist()\n",
    "            bof[\"hof\"] = np.concatenate(hof_histograms).tolist()\n",
    "\n",
    "            json_object = json.dumps(bof, indent = 4)\n",
    "            with open(\"Task-4\\\\\" + video_name + \".json\", \"w\") as outfile:\n",
    "                outfile.write(json_object)\n",
    "\n",
    "STIP_target_path = \"STIP/target_videos\"\n",
    "get_bof(STIP_target_path)\n"
   ]
  },
  {
   "cell_type": "code",
   "execution_count": null,
   "id": "197e85f8-9dd5-46bf-948d-d79a9e9adc14",
   "metadata": {},
   "outputs": [],
   "source": []
  }
 ],
 "metadata": {
  "kernelspec": {
   "display_name": "Python 3 (ipykernel)",
   "language": "python",
   "name": "python3"
  },
  "language_info": {
   "codemirror_mode": {
    "name": "ipython",
    "version": 3
   },
   "file_extension": ".py",
   "mimetype": "text/x-python",
   "name": "python",
   "nbconvert_exporter": "python",
   "pygments_lexer": "ipython3",
   "version": "3.12.4"
  }
 },
 "nbformat": 4,
 "nbformat_minor": 5
}
